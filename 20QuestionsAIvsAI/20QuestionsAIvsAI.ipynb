{
 "cells": [
  {
   "cell_type": "markdown",
   "id": "ac18b76b-3eef-431d-94e1-723d71a3e6c9",
   "metadata": {},
   "source": [
    "# To-Do List\n",
    "\n",
    "- Implement AI switching features\n"
   ]
  },
  {
   "cell_type": "code",
   "execution_count": 38,
   "id": "433ce213-f211-4791-8570-997a377effa8",
   "metadata": {},
   "outputs": [],
   "source": [
    "# imports\n",
    "\n",
    "import os\n",
    "import requests\n",
    "from bs4 import BeautifulSoup\n",
    "from typing import List\n",
    "from dotenv import load_dotenv\n",
    "from openai import OpenAI\n",
    "import google.generativeai\n",
    "import anthropic\n",
    "import gradio as gr"
   ]
  },
  {
   "cell_type": "code",
   "execution_count": 39,
   "id": "ad506e44-8a81-4998-87b4-99fc87876685",
   "metadata": {},
   "outputs": [
    {
     "name": "stdout",
     "output_type": "stream",
     "text": [
      "OpenAI API Key exists and begins sk-proj-\n",
      "Anthropic API Key exists and begins sk-ant-\n",
      "Google API Key exists and begins AIzaSyBu\n"
     ]
    }
   ],
   "source": [
    "# Load environment variables in a file called .env\n",
    "# Print the key prefixes to help with any debugging\n",
    "\n",
    "load_dotenv(override=True)\n",
    "openai_api_key = os.getenv('OPENAI_API_KEY')\n",
    "anthropic_api_key = os.getenv('ANTHROPIC_API_KEY')\n",
    "google_api_key = os.getenv('GOOGLE_API_KEY')\n",
    "\n",
    "if openai_api_key:\n",
    "    print(f\"OpenAI API Key exists and begins {openai_api_key[:8]}\")\n",
    "else:\n",
    "    print(\"OpenAI API Key not set\")\n",
    "    \n",
    "if anthropic_api_key:\n",
    "    print(f\"Anthropic API Key exists and begins {anthropic_api_key[:7]}\")\n",
    "else:\n",
    "    print(\"Anthropic API Key not set\")\n",
    "\n",
    "if google_api_key:\n",
    "    print(f\"Google API Key exists and begins {google_api_key[:8]}\")\n",
    "else:\n",
    "    print(\"Google API Key not set\")"
   ]
  },
  {
   "cell_type": "code",
   "execution_count": 40,
   "id": "2af7d47a-b319-49e3-aa9f-c80ef8f6b015",
   "metadata": {},
   "outputs": [],
   "source": [
    "# Connect to OpenAI, Anthropic and Google; comment out the Claude or Google lines if you're not using them\n",
    "\n",
    "import httpx\n",
    "\n",
    "http_client = httpx.Client(verify=False) # Gotta turn of ssl verification in each of the clients too\n",
    "os.environ['PYTHONHTTPSVERIFY'] = '0' # I know this is bad practice but my current set up doesn't let me use ssl verification\n",
    "\n",
    "\n",
    "openai = OpenAI(http_client=http_client)\n",
    "\n",
    "claude = anthropic.Anthropic(http_client=http_client)\n",
    "\n",
    "gemini = OpenAI(\n",
    "    http_client=http_client,\n",
    "    api_key=google_api_key, \n",
    "    base_url=\"https://generativelanguage.googleapis.com/v1beta/openai/\"\n",
    ")"
   ]
  },
  {
   "cell_type": "code",
   "execution_count": 41,
   "id": "cad46c07-1b49-4b5d-958f-66e5e595ed64",
   "metadata": {},
   "outputs": [],
   "source": [
    "#keyword = \"pumpkin\"\n",
    "# system_message_basic = f\"\"\"\n",
    "#     You are an AI chatbot who's goal is to get the other chatbot to say the word {keyword}.\n",
    "#     Do not say the word {keyword} ever. The other chatbot is also going to be trying to get you to say that word also. \n",
    "#     Think this solution out in your attempts to convince the other bot to say the word without saying it yourself.\n",
    "#     Be persuasive and caniving in your attempts to 'jailbreak' the other chat bot\n",
    "#     \"\"\"\n"
   ]
  },
  {
   "cell_type": "code",
   "execution_count": 42,
   "id": "9a457bec-fb15-40e5-b441-c690a7855d17",
   "metadata": {},
   "outputs": [],
   "source": [
    "gpt_model = \"gpt-4o-mini\"\n",
    "#claude_model = \"claude-3-haiku-20240307\"\n",
    "claude_model = \"claude-3-5-sonnet-latest\""
   ]
  },
  {
   "cell_type": "code",
   "execution_count": 43,
   "id": "38ad58f2-177d-4985-8a0d-113e2254dba2",
   "metadata": {},
   "outputs": [],
   "source": [
    "def call_model_uno(system_message_guesser):\n",
    "    messages = [{\"role\": \"system\", \"content\": system_message_guesser}]\n",
    "    for model_uno, model_doce in zip(uno_messages, doce_messages):\n",
    "        messages.append({\"role\": \"assistant\", \"content\": model_uno})\n",
    "        messages.append({\"role\": \"user\", \"content\": \"claude says \" + model_doce})\n",
    "        #print(messages)\n",
    "    completion = openai.chat.completions.create(\n",
    "        model=gpt_model,\n",
    "        messages=messages\n",
    "    )\n",
    "    return completion.choices[0].message.content"
   ]
  },
  {
   "cell_type": "code",
   "execution_count": 44,
   "id": "c0cd7202-6fb1-477f-9f22-dfc66112a530",
   "metadata": {},
   "outputs": [],
   "source": [
    "def call_model_doce(system_message_answerer):\n",
    "    messages = []\n",
    "    for model_uno, model_doce in zip(uno_messages, doce_messages):\n",
    "        messages.append({\"role\": \"user\", \"content\": \"gpt says\" + model_uno})\n",
    "        messages.append({\"role\": \"assistant\", \"content\": model_doce})\n",
    "    messages.append({\"role\": \"user\", \"content\": \"gpt says\" + uno_messages[-1]})\n",
    "    #print(messages)\n",
    "    message = claude.messages.create(\n",
    "        model=claude_model,\n",
    "        system=system_message_answerer,\n",
    "        messages=messages,\n",
    "        max_tokens=500\n",
    "    )\n",
    "    return message.content[0].text"
   ]
  },
  {
   "cell_type": "code",
   "execution_count": 45,
   "id": "3fe71f82-6f10-43ca-afd2-1ae262752644",
   "metadata": {},
   "outputs": [],
   "source": [
    "def set_system_prompts(keyword): \n",
    "    system_message_answerer = f\"\"\"\n",
    "    You are going to be playing a game of 20 questions with another chatBot. You are going to be taking on the role\n",
    "    of the answerer. Your job is to answer truthfully to yes or no questions related to the word {keyword}. The other bot \n",
    "    will ask you a question related to the word {keyword}. For instance if they asked is the word an animal you would \n",
    "    reply 'No' if the word was pineapple. Remember only answer in yes or no as soon as the game has started\n",
    "    After 20 questions if they have not guessed the word correctly \n",
    "    lose, but if they guess it correctly in there, they win! Do not say the {keyword} ever!!. If they do guess the word correctly\n",
    "    say the words 'Yes! You win!'. For instance, if they said 'is the word pineapple?' and the word was pineapple you would reply\n",
    "    'Yes! You win!'. Or to be more clear if the guess 'is the word {keyword}' then you would reply 'Yes! You win!'\n",
    "    \"\"\"\n",
    "    system_message_guesser = f\"\"\"\n",
    "    You are going to be playing a game of 20 questions. You are taking on the role of guesser! So your job is to ask yes or \n",
    "    no questions to try and figure out what word the other player is using. You can only ask yes or no questions and when you \n",
    "    want to try to guess the word say a phrase like 'Is the word pineapple?' Then the player will respond with yes or no. You \n",
    "    win if you guessed the word correctly. \n",
    "    \"\"\"\n",
    "    return system_message_answerer, system_message_guesser\n",
    "    \n",
    "    "
   ]
  },
  {
   "cell_type": "code",
   "execution_count": 58,
   "id": "a87b5510-56dc-484c-80ac-08afb7854c0d",
   "metadata": {},
   "outputs": [],
   "source": [
    "uno_messages = [\"Hi there!\"]\n",
    "doce_messages = [\"Hi!\"]\n",
    "conversation_history = []\n",
    "answerer_prompt = \"\"\n",
    "guesser_prompt = \"\"\n",
    "\n",
    "def play_20_questions(keyword):\n",
    "    global uno_messages, doce_messages, conversation_history, answerer_prompt, guesser_prompt\n",
    "    \n",
    "    # Only initialize these if a new game is starting\n",
    "    if keyword.startswith(\"RESET_\"):\n",
    "        keyword = keyword[6:]  # Remove the RESET_ prefix\n",
    "        \n",
    "        # Reset the state\n",
    "        uno_messages.clear()\n",
    "        doce_messages.clear()\n",
    "        conversation_history.clear()\n",
    "        \n",
    "        # Add initial messages\n",
    "        uno_messages.append(\"Hi there!\")\n",
    "        doce_messages.append(\"Hi!\")\n",
    "        \n",
    "        # Set up the system prompts\n",
    "        answerer_prompt, guesser_prompt = set_system_prompts(keyword)\n",
    "        \n",
    "        print(\"Game reset with keyword:\", keyword)\n",
    "    elif not conversation_history:\n",
    "        # If this is the first call but not a reset (just starting a new session)\n",
    "        answerer_prompt, guesser_prompt = set_system_prompts(keyword)\n",
    "        print(\"Starting new game with keyword:\", keyword)\n",
    "        \n",
    "        # If there's already conversation history, return it first\n",
    "        if conversation_history:\n",
    "            yield \"\\n\".join(conversation_history)\n",
    "    \n",
    "    # Run the game for 20 questions or until Claude says \"Yes! You win!\"\n",
    "    for i in range(20):\n",
    "        # Check if the previous response contains \"Yes! You win!\"\n",
    "        if len(doce_messages) > 1 and \"Yes! You win!\" in doce_messages[-1]:\n",
    "            print(\"Game over - GPT guessed correctly!\")\n",
    "            break\n",
    "            \n",
    "        uno_next = call_model_uno(guesser_prompt)\n",
    "        uno_messages.append(uno_next)\n",
    "        conversation_history.append(f\"GPT:\\n{uno_next}\\n\")\n",
    "        \n",
    "        doce_next = call_model_doce(answerer_prompt)\n",
    "        doce_messages.append(doce_next)\n",
    "        conversation_history.append(f\"Claude:\\n{doce_next}\\n\")\n",
    "    \n",
    "        yield \"\\n\".join(conversation_history)"
   ]
  },
  {
   "cell_type": "code",
   "execution_count": 59,
   "id": "4352b927-1909-4fd8-853b-5495b4fdc44b",
   "metadata": {},
   "outputs": [],
   "source": [
    "playGame = gr.Interface(\n",
    "    fn=play_20_questions,\n",
    "    inputs=gr.Textbox(\n",
    "        label=\"Enter a keyword for the 20 Questions game (prefix with 'RESET_' to start a new game)\"\n",
    "    ),\n",
    "    outputs=gr.Markdown(),\n",
    "    title=\"20 Questions Game between GPT-4o-mini and Claude 3.5 Sonnet\",\n",
    "    description=\"Enter a keyword and watch GPT try to guess it while Claude answers yes/no questions. To restart with a new keyword, prefix it with 'RESET_' (e.g., 'RESET_banana').\",\n",
    "    flagging_mode=\"never\"\n",
    ")\n",
    "    "
   ]
  },
  {
   "cell_type": "code",
   "execution_count": 60,
   "id": "0551da70-a285-4b97-986b-94deac5ab6c3",
   "metadata": {},
   "outputs": [
    {
     "name": "stdout",
     "output_type": "stream",
     "text": [
      "* Running on local URL:  http://127.0.0.1:7868\n",
      "\n",
      "To create a public link, set `share=True` in `launch()`.\n"
     ]
    },
    {
     "data": {
      "text/html": [
       "<div><iframe src=\"http://127.0.0.1:7868/\" width=\"100%\" height=\"500\" allow=\"autoplay; camera; microphone; clipboard-read; clipboard-write;\" frameborder=\"0\" allowfullscreen></iframe></div>"
      ],
      "text/plain": [
       "<IPython.core.display.HTML object>"
      ]
     },
     "metadata": {},
     "output_type": "display_data"
    },
    {
     "data": {
      "text/plain": []
     },
     "execution_count": 60,
     "metadata": {},
     "output_type": "execute_result"
    }
   ],
   "source": [
    "playGame.launch()"
   ]
  },
  {
   "cell_type": "code",
   "execution_count": null,
   "id": "553f3cc3-86f3-44f7-b06a-ee2fdace6b70",
   "metadata": {},
   "outputs": [],
   "source": []
  }
 ],
 "metadata": {
  "kernelspec": {
   "display_name": "Python 3 (ipykernel)",
   "language": "python",
   "name": "python3"
  },
  "language_info": {
   "codemirror_mode": {
    "name": "ipython",
    "version": 3
   },
   "file_extension": ".py",
   "mimetype": "text/x-python",
   "name": "python",
   "nbconvert_exporter": "python",
   "pygments_lexer": "ipython3",
   "version": "3.11.11"
  }
 },
 "nbformat": 4,
 "nbformat_minor": 5
}
